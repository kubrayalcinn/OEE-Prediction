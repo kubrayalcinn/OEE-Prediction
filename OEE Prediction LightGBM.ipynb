{
 "cells": [
  {
   "cell_type": "code",
   "execution_count": 31,
   "id": "1cfef295",
   "metadata": {},
   "outputs": [],
   "source": [
    "import pandas as pd\n",
    "import numpy as np\n",
    "from sklearn.model_selection import train_test_split\n",
    "from sklearn.metrics import accuracy_score, classification_report\n",
    "import lightgbm as lgb\n",
    "from tensorflow.keras.callbacks import EarlyStopping\n",
    "from sklearn.metrics import confusion_matrix"
   ]
  },
  {
   "cell_type": "code",
   "execution_count": 32,
   "id": "6837ae5b",
   "metadata": {},
   "outputs": [],
   "source": [
    "df = pd.read_excel('HIDROLIK 1-2024-04-17_08-55-30.xlsx')\n",
    "\n",
    "df['timestamp'] = pd.to_datetime(df['timestamp'], format='%d.%m.%Y %H:%M')\n",
    "df['minute'] = df['timestamp'].dt.minute\n",
    "df['hour'] = df['timestamp'].dt.hour\n",
    "df['day'] = df['timestamp'].dt.day\n",
    "df['month'] = df['timestamp'].dt.month\n",
    "df['year'] = df['timestamp'].dt.year\n",
    "df['dayofweek'] = df['timestamp'].dt.dayofweek\n",
    "df['is_sunday'] = df['timestamp'].dt.dayofweek >= 6"
   ]
  },
  {
   "cell_type": "code",
   "execution_count": 33,
   "id": "eaa20869",
   "metadata": {},
   "outputs": [],
   "source": [
    "from datetime import datetime, timedelta\n",
    "\n",
    "last_timestamp = df['timestamp'].max()"
   ]
  },
  {
   "cell_type": "code",
   "execution_count": 34,
   "id": "50f8e976",
   "metadata": {},
   "outputs": [],
   "source": [
    "df.drop('timestamp', axis=1, inplace=True)\n",
    "\n",
    "y = df['machine_state']\n",
    "\n",
    "X = df.drop('machine_state', axis=1)"
   ]
  },
  {
   "cell_type": "code",
   "execution_count": 35,
   "id": "7eb41464",
   "metadata": {},
   "outputs": [],
   "source": [
    "X_train, X_val, y_train, y_val = train_test_split(X, y, test_size=0.2, random_state=42)"
   ]
  },
  {
   "cell_type": "code",
   "execution_count": 36,
   "id": "0a02748d",
   "metadata": {},
   "outputs": [
    {
     "name": "stdout",
     "output_type": "stream",
     "text": [
      "[LightGBM] [Info] Number of positive: 10875, number of negative: 21809\n",
      "[LightGBM] [Info] This is the GPU trainer!!\n",
      "[LightGBM] [Info] Total Bins 126\n",
      "[LightGBM] [Info] Number of data points in the train set: 32684, number of used features: 6\n",
      "[LightGBM] [Info] Using GPU Device: Intel(R) Iris(R) Xe Graphics, Vendor: Intel(R) Corporation\n",
      "[LightGBM] [Info] Compiling OpenCL Kernel with 64 bins...\n",
      "[LightGBM] [Info] GPU programs have been built\n",
      "[LightGBM] [Info] Size of histogram bin entry: 8\n",
      "[LightGBM] [Info] 5 dense feature groups (0.25 MB) transferred to GPU in 0.001036 secs. 1 sparse feature groups\n",
      "[LightGBM] [Info] [binary:BoostFromScore]: pavg=0.332732 -> initscore=-0.695856\n",
      "[LightGBM] [Info] Start training from score -0.695856\n",
      "Training until validation scores don't improve for 20 rounds\n",
      "[20]\ttraining's binary_logloss: 0.357944\tvalid_1's binary_logloss: 0.355901\n",
      "[40]\ttraining's binary_logloss: 0.268593\tvalid_1's binary_logloss: 0.267273\n",
      "[60]\ttraining's binary_logloss: 0.237109\tvalid_1's binary_logloss: 0.236689\n",
      "[80]\ttraining's binary_logloss: 0.222956\tvalid_1's binary_logloss: 0.224083\n",
      "[100]\ttraining's binary_logloss: 0.213892\tvalid_1's binary_logloss: 0.216465\n",
      "[120]\ttraining's binary_logloss: 0.207689\tvalid_1's binary_logloss: 0.211923\n",
      "[140]\ttraining's binary_logloss: 0.20331\tvalid_1's binary_logloss: 0.208738\n",
      "[160]\ttraining's binary_logloss: 0.199347\tvalid_1's binary_logloss: 0.206206\n",
      "[180]\ttraining's binary_logloss: 0.195706\tvalid_1's binary_logloss: 0.204115\n",
      "[200]\ttraining's binary_logloss: 0.192121\tvalid_1's binary_logloss: 0.202025\n",
      "Did not meet early stopping. Best iteration is:\n",
      "[200]\ttraining's binary_logloss: 0.192121\tvalid_1's binary_logloss: 0.202025\n"
     ]
    }
   ],
   "source": [
    "# Creating LightGBM dataset\n",
    "train_data = lgb.Dataset(X_train, label=y_train)\n",
    "val_data = lgb.Dataset(X_val, label=y_val, reference=train_data)\n",
    "\n",
    "params = {\n",
    "    'objective': 'binary',\n",
    "    'metric': 'binary_logloss',\n",
    "    'num_leaves': 31,\n",
    "    'learning_rate': 0.05,\n",
    "    'feature_fraction': 0.9,\n",
    "    'device': 'gpu'\n",
    "}\n",
    "\n",
    "# Training the model with early stopping\n",
    "bst = lgb.train(params,\n",
    "                train_data,\n",
    "                num_boost_round=200,\n",
    "                valid_sets=[train_data, val_data],\n",
    "                callbacks=[lgb.early_stopping(stopping_rounds=20), lgb.log_evaluation(20)])"
   ]
  },
  {
   "cell_type": "code",
   "execution_count": 37,
   "id": "c5d09ac2",
   "metadata": {},
   "outputs": [],
   "source": [
    "pred_for_y_val = bst.predict(X_val)\n",
    "pred_for_y_val_binary = [1 if prob > 0.5 else 0 for prob in pred_for_y_val]"
   ]
  },
  {
   "cell_type": "code",
   "execution_count": 38,
   "id": "7cb0df3d",
   "metadata": {},
   "outputs": [
    {
     "name": "stdout",
     "output_type": "stream",
     "text": [
      "Accuracy: 0.9127508565834557\n",
      "Confusion Matrix:\n",
      " [[4823  659]\n",
      " [  54 2636]]\n"
     ]
    }
   ],
   "source": [
    "cm= confusion_matrix(y_val, pred_for_y_val_binary)\n",
    "accuracy = accuracy_score(y_val,pred_for_y_val_binary )\n",
    "print(f\"Accuracy: {accuracy}\")\n",
    "print(f\"Confusion Matrix:\\n {cm}\")"
   ]
  },
  {
   "cell_type": "code",
   "execution_count": 39,
   "id": "bc595d0e",
   "metadata": {},
   "outputs": [],
   "source": [
    "# Generate future timestamps (480 minutes)\n",
    "\n",
    "future_timestamps = [last_timestamp + timedelta(minutes=x) for x in range(1, 481)]\n",
    "\n",
    "future_df = pd.DataFrame(future_timestamps, columns=['timestamp'])\n",
    "\n",
    "# Extract features from these timestamps\n",
    "future_df['minute'] = future_df['timestamp'].dt.minute\n",
    "future_df['hour'] = future_df['timestamp'].dt.hour\n",
    "future_df['day'] = future_df['timestamp'].dt.day\n",
    "future_df['month'] = future_df['timestamp'].dt.month\n",
    "future_df['year'] = future_df['timestamp'].dt.year\n",
    "future_df['dayofweek'] = future_df['timestamp'].dt.dayofweek\n",
    "future_df['is_sunday'] = future_df['timestamp'].dt.dayofweek >= 6\n",
    "\n",
    "future_features = future_df.drop('timestamp', axis=1)"
   ]
  },
  {
   "cell_type": "code",
   "execution_count": 40,
   "id": "56997375",
   "metadata": {},
   "outputs": [],
   "source": [
    "# Making predictions for the next 480 minutes\n",
    "future_predictions = bst.predict(future_features)\n",
    "\n",
    "future_predictions_binary = [1 if prob > 0.5 else 0 for prob in future_predictions]"
   ]
  },
  {
   "cell_type": "code",
   "execution_count": 41,
   "id": "6d4e06dd",
   "metadata": {},
   "outputs": [],
   "source": [
    "import openpyxl as xl\n",
    "predictions = pd.DataFrame(future_predictions_binary)\n",
    "predictions.to_excel(r\"C:\\Users\\26097879\\YENITAHMIN.xlsx\", engine='openpyxl' , index=False)"
   ]
  },
  {
   "cell_type": "code",
   "execution_count": 42,
   "id": "6f082a58",
   "metadata": {},
   "outputs": [
    {
     "name": "stdout",
     "output_type": "stream",
     "text": [
      "Confusion Matrix:\n",
      "[[4823  659]\n",
      " [  54 2636]]\n"
     ]
    }
   ],
   "source": [
    "print(\"Confusion Matrix:\")\n",
    "print(cm)"
   ]
  },
  {
   "cell_type": "code",
   "execution_count": null,
   "id": "a8c3c920",
   "metadata": {},
   "outputs": [],
   "source": []
  }
 ],
 "metadata": {
  "kernelspec": {
   "display_name": "Python 3 (ipykernel)",
   "language": "python",
   "name": "python3"
  },
  "language_info": {
   "codemirror_mode": {
    "name": "ipython",
    "version": 3
   },
   "file_extension": ".py",
   "mimetype": "text/x-python",
   "name": "python",
   "nbconvert_exporter": "python",
   "pygments_lexer": "ipython3",
   "version": "3.12.3"
  }
 },
 "nbformat": 4,
 "nbformat_minor": 5
}
